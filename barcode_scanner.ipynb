{
 "cells": [
  {
   "cell_type": "code",
   "execution_count": null,
   "id": "4bbde7ba",
   "metadata": {},
   "outputs": [],
   "source": [
    "import cv2\n",
    "from pyzbar.pyzbar import decode\n",
    "import numpy as np\n",
    "import winsound\n",
    "\n",
    "def scan_barcodes():\n",
    "    cap = cv2.VideoCapture(0)  # 0 for default webcam\n",
    "\n",
    "    while True:\n",
    "        success, frame = cap.read()\n",
    "        if not success:\n",
    "            break\n",
    "\n",
    "        for barcode in decode(frame):\n",
    "            data = barcode.data.decode('utf-8')\n",
    "            type = barcode.type\n",
    "            points = barcode.polygon\n",
    "            winsound.Beep(10000,150)\n",
    "\n",
    "            # Draw bounding box\n",
    "            pts = [tuple(p) for p in points]\n",
    "            cv2.polylines(frame, [np.array(pts, np.int32)], True, (0, 255, 0), 2)\n",
    "\n",
    "            # Display the barcode data & type\n",
    "            x, y, w, h = barcode.rect\n",
    "            text = f'{data} ({type})'\n",
    "            cv2.putText(frame, text, (x, y - 10), cv2.FONT_HERSHEY_SIMPLEX, 0.7, (255, 0, 0), 2)\n",
    "\n",
    "        cv2.imshow('Barcode Scanner', frame)\n",
    "\n",
    "        if cv2.waitKey(1) & 0xFF == ord('q'):\n",
    "            break\n",
    "\n",
    "    cap.release()\n",
    "    cv2.destroyAllWindows()\n",
    "\n",
    "scan_barcodes()\n"
   ]
  }
 ],
 "metadata": {
  "kernelspec": {
   "display_name": ".venv",
   "language": "python",
   "name": "python3"
  },
  "language_info": {
   "codemirror_mode": {
    "name": "ipython",
    "version": 3
   },
   "file_extension": ".py",
   "mimetype": "text/x-python",
   "name": "python",
   "nbconvert_exporter": "python",
   "pygments_lexer": "ipython3",
   "version": "3.13.3"
  }
 },
 "nbformat": 4,
 "nbformat_minor": 5
}
